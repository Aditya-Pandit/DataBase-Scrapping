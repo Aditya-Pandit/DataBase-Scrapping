{
 "cells": [
  {
   "cell_type": "markdown",
   "metadata": {},
   "source": [
    "# Importing libraries"
   ]
  },
  {
   "cell_type": "code",
   "execution_count": 1,
   "metadata": {},
   "outputs": [
    {
     "name": "stdout",
     "output_type": "stream",
     "text": [
      "Libraries used in this project:\n",
      "- Python 3.9.13 (main, Aug 25 2022, 23:51:50) [MSC v.1916 64 bit (AMD64)]\n",
      "- pandas 1.4.4\n",
      "- sqlite3 3.39.3\n"
     ]
    }
   ],
   "source": [
    "import sys           \n",
    "import pandas as pd  \n",
    "import sqlite3       \n",
    "\n",
    "print('Libraries used in this project:')\n",
    "print('- Python {}'.format(sys.version))\n",
    "print('- pandas {}'.format(pd.__version__))\n",
    "print('- sqlite3 {}'.format(sqlite3.sqlite_version))"
   ]
  },
  {
   "cell_type": "markdown",
   "metadata": {},
   "source": [
    "# Connecting to the database"
   ]
  },
  {
   "cell_type": "code",
   "execution_count": 2,
   "metadata": {},
   "outputs": [
    {
     "data": {
      "text/plain": [
       "<sqlite3.Connection at 0x20792b343f0>"
      ]
     },
     "execution_count": 2,
     "metadata": {},
     "output_type": "execute_result"
    }
   ],
   "source": [
    "conn = sqlite3.connect('prod_sample.db')\n",
    "conn"
   ]
  },
  {
   "cell_type": "markdown",
   "metadata": {},
   "source": [
    "## Listing all the tables in the database."
   ]
  },
  {
   "cell_type": "code",
   "execution_count": 3,
   "metadata": {},
   "outputs": [
    {
     "data": {
      "text/html": [
       "<div>\n",
       "<style scoped>\n",
       "    .dataframe tbody tr th:only-of-type {\n",
       "        vertical-align: middle;\n",
       "    }\n",
       "\n",
       "    .dataframe tbody tr th {\n",
       "        vertical-align: top;\n",
       "    }\n",
       "\n",
       "    .dataframe thead th {\n",
       "        text-align: right;\n",
       "    }\n",
       "</style>\n",
       "<table border=\"1\" class=\"dataframe\">\n",
       "  <thead>\n",
       "    <tr style=\"text-align: right;\">\n",
       "      <th></th>\n",
       "      <th>name</th>\n",
       "    </tr>\n",
       "  </thead>\n",
       "  <tbody>\n",
       "    <tr>\n",
       "      <th>0</th>\n",
       "      <td>stock_description</td>\n",
       "    </tr>\n",
       "    <tr>\n",
       "      <th>1</th>\n",
       "      <td>online_retail_history</td>\n",
       "    </tr>\n",
       "  </tbody>\n",
       "</table>\n",
       "</div>"
      ],
      "text/plain": [
       "                    name\n",
       "0      stock_description\n",
       "1  online_retail_history"
      ]
     },
     "execution_count": 3,
     "metadata": {},
     "output_type": "execute_result"
    }
   ],
   "source": [
    "query = 'SELECT name FROM sqlite_master where type= \"table\" '\n",
    "\n",
    "pd.read_sql_query(query, conn)"
   ]
  },
  {
   "cell_type": "markdown",
   "metadata": {},
   "source": [
    "# Reading data from the `online_retail_history` table"
   ]
  },
  {
   "cell_type": "code",
   "execution_count": 4,
   "metadata": {},
   "outputs": [
    {
     "data": {
      "text/html": [
       "<div>\n",
       "<style scoped>\n",
       "    .dataframe tbody tr th:only-of-type {\n",
       "        vertical-align: middle;\n",
       "    }\n",
       "\n",
       "    .dataframe tbody tr th {\n",
       "        vertical-align: top;\n",
       "    }\n",
       "\n",
       "    .dataframe thead th {\n",
       "        text-align: right;\n",
       "    }\n",
       "</style>\n",
       "<table border=\"1\" class=\"dataframe\">\n",
       "  <thead>\n",
       "    <tr style=\"text-align: right;\">\n",
       "      <th></th>\n",
       "      <th>Invoice</th>\n",
       "      <th>StockCode</th>\n",
       "      <th>Quantity</th>\n",
       "      <th>InvoiceDate</th>\n",
       "      <th>Price</th>\n",
       "      <th>CustomerID</th>\n",
       "      <th>Country</th>\n",
       "      <th>TotalAmount</th>\n",
       "    </tr>\n",
       "  </thead>\n",
       "  <tbody>\n",
       "    <tr>\n",
       "      <th>0</th>\n",
       "      <td>536365</td>\n",
       "      <td>85123A</td>\n",
       "      <td>6</td>\n",
       "      <td>2010-12-01 08:26:00</td>\n",
       "      <td>2.55</td>\n",
       "      <td>u1785</td>\n",
       "      <td>United Kingdom</td>\n",
       "      <td>15.30</td>\n",
       "    </tr>\n",
       "    <tr>\n",
       "      <th>1</th>\n",
       "      <td>536367</td>\n",
       "      <td>84879</td>\n",
       "      <td>32</td>\n",
       "      <td>2010-12-01 08:34:00</td>\n",
       "      <td>1.69</td>\n",
       "      <td>u13047</td>\n",
       "      <td>United Kingdom</td>\n",
       "      <td>54.08</td>\n",
       "    </tr>\n",
       "    <tr>\n",
       "      <th>2</th>\n",
       "      <td>536373</td>\n",
       "      <td>85123A</td>\n",
       "      <td>6</td>\n",
       "      <td>2010-12-01 09:02:00</td>\n",
       "      <td>2.55</td>\n",
       "      <td>u1785</td>\n",
       "      <td>United Kingdom</td>\n",
       "      <td>15.30</td>\n",
       "    </tr>\n",
       "    <tr>\n",
       "      <th>3</th>\n",
       "      <td>536375</td>\n",
       "      <td>85123A</td>\n",
       "      <td>6</td>\n",
       "      <td>2010-12-01 09:32:00</td>\n",
       "      <td>2.55</td>\n",
       "      <td>u1785</td>\n",
       "      <td>United Kingdom</td>\n",
       "      <td>15.30</td>\n",
       "    </tr>\n",
       "    <tr>\n",
       "      <th>4</th>\n",
       "      <td>536378</td>\n",
       "      <td>20725</td>\n",
       "      <td>10</td>\n",
       "      <td>2010-12-01 09:37:00</td>\n",
       "      <td>1.65</td>\n",
       "      <td>u14688</td>\n",
       "      <td>United Kingdom</td>\n",
       "      <td>16.50</td>\n",
       "    </tr>\n",
       "  </tbody>\n",
       "</table>\n",
       "</div>"
      ],
      "text/plain": [
       "  Invoice StockCode  Quantity          InvoiceDate  Price CustomerID  \\\n",
       "0  536365    85123A         6  2010-12-01 08:26:00   2.55      u1785   \n",
       "1  536367     84879        32  2010-12-01 08:34:00   1.69     u13047   \n",
       "2  536373    85123A         6  2010-12-01 09:02:00   2.55      u1785   \n",
       "3  536375    85123A         6  2010-12-01 09:32:00   2.55      u1785   \n",
       "4  536378     20725        10  2010-12-01 09:37:00   1.65     u14688   \n",
       "\n",
       "          Country  TotalAmount  \n",
       "0  United Kingdom        15.30  \n",
       "1  United Kingdom        54.08  \n",
       "2  United Kingdom        15.30  \n",
       "3  United Kingdom        15.30  \n",
       "4  United Kingdom        16.50  "
      ]
     },
     "execution_count": 4,
     "metadata": {},
     "output_type": "execute_result"
    }
   ],
   "source": [
    "query = 'SELECT * FROM online_retail_history'\n",
    "\n",
    "onRetail = pd.read_sql(query, conn)\n",
    "\n",
    "onRetail.head()"
   ]
  },
  {
   "cell_type": "code",
   "execution_count": 5,
   "metadata": {},
   "outputs": [
    {
     "data": {
      "text/plain": [
       "(15321, 8)"
      ]
     },
     "execution_count": 5,
     "metadata": {},
     "output_type": "execute_result"
    }
   ],
   "source": [
    "onRetail.shape"
   ]
  },
  {
   "cell_type": "markdown",
   "metadata": {},
   "source": [
    "# Read data from the `stock_description` table"
   ]
  },
  {
   "cell_type": "code",
   "execution_count": 6,
   "metadata": {},
   "outputs": [
    {
     "data": {
      "text/html": [
       "<div>\n",
       "<style scoped>\n",
       "    .dataframe tbody tr th:only-of-type {\n",
       "        vertical-align: middle;\n",
       "    }\n",
       "\n",
       "    .dataframe tbody tr th {\n",
       "        vertical-align: top;\n",
       "    }\n",
       "\n",
       "    .dataframe thead th {\n",
       "        text-align: right;\n",
       "    }\n",
       "</style>\n",
       "<table border=\"1\" class=\"dataframe\">\n",
       "  <thead>\n",
       "    <tr style=\"text-align: right;\">\n",
       "      <th></th>\n",
       "      <th>StockCode</th>\n",
       "      <th>Description</th>\n",
       "    </tr>\n",
       "  </thead>\n",
       "  <tbody>\n",
       "    <tr>\n",
       "      <th>0</th>\n",
       "      <td>10002</td>\n",
       "      <td>INFLATABLE POLITICAL GLOBE</td>\n",
       "    </tr>\n",
       "    <tr>\n",
       "      <th>1</th>\n",
       "      <td>10080</td>\n",
       "      <td>GROOVY CACTUS INFLATABLE</td>\n",
       "    </tr>\n",
       "    <tr>\n",
       "      <th>2</th>\n",
       "      <td>10120</td>\n",
       "      <td>DOGGY RUBBER</td>\n",
       "    </tr>\n",
       "    <tr>\n",
       "      <th>3</th>\n",
       "      <td>10123C</td>\n",
       "      <td>HEARTS WRAPPING TAPE</td>\n",
       "    </tr>\n",
       "    <tr>\n",
       "      <th>4</th>\n",
       "      <td>10124A</td>\n",
       "      <td>SPOTS ON RED BOOKCOVER TAPE</td>\n",
       "    </tr>\n",
       "  </tbody>\n",
       "</table>\n",
       "</div>"
      ],
      "text/plain": [
       "  StockCode                  Description\n",
       "0     10002  INFLATABLE POLITICAL GLOBE \n",
       "1     10080     GROOVY CACTUS INFLATABLE\n",
       "2     10120                 DOGGY RUBBER\n",
       "3    10123C        HEARTS WRAPPING TAPE \n",
       "4    10124A  SPOTS ON RED BOOKCOVER TAPE"
      ]
     },
     "execution_count": 6,
     "metadata": {},
     "output_type": "execute_result"
    }
   ],
   "source": [
    "query = 'SELECT * FROM stock_description'\n",
    "\n",
    "stock = pd.read_sql(query, conn)\n",
    "\n",
    "stock.head()"
   ]
  },
  {
   "cell_type": "code",
   "execution_count": 7,
   "metadata": {},
   "outputs": [
    {
     "data": {
      "text/plain": [
       "(3952, 2)"
      ]
     },
     "execution_count": 7,
     "metadata": {},
     "output_type": "execute_result"
    }
   ],
   "source": [
    "stock.shape"
   ]
  },
  {
   "cell_type": "markdown",
   "metadata": {},
   "source": [
    "# Aggregating the `online_retail_history` and `stock_description` tables"
   ]
  },
  {
   "cell_type": "code",
   "execution_count": 8,
   "metadata": {},
   "outputs": [
    {
     "data": {
      "text/html": [
       "<div>\n",
       "<style scoped>\n",
       "    .dataframe tbody tr th:only-of-type {\n",
       "        vertical-align: middle;\n",
       "    }\n",
       "\n",
       "    .dataframe tbody tr th {\n",
       "        vertical-align: top;\n",
       "    }\n",
       "\n",
       "    .dataframe thead th {\n",
       "        text-align: right;\n",
       "    }\n",
       "</style>\n",
       "<table border=\"1\" class=\"dataframe\">\n",
       "  <thead>\n",
       "    <tr style=\"text-align: right;\">\n",
       "      <th></th>\n",
       "      <th>Invoice</th>\n",
       "      <th>StockCode</th>\n",
       "      <th>Quantity</th>\n",
       "      <th>InvoiceDate</th>\n",
       "      <th>Price</th>\n",
       "      <th>CustomerID</th>\n",
       "      <th>Country</th>\n",
       "      <th>TotalAmount</th>\n",
       "      <th>Description</th>\n",
       "    </tr>\n",
       "  </thead>\n",
       "  <tbody>\n",
       "    <tr>\n",
       "      <th>0</th>\n",
       "      <td>536365</td>\n",
       "      <td>85123A</td>\n",
       "      <td>6</td>\n",
       "      <td>2010-12-01 08:26:00</td>\n",
       "      <td>2.55</td>\n",
       "      <td>u1785</td>\n",
       "      <td>United Kingdom</td>\n",
       "      <td>15.30</td>\n",
       "      <td>CREAM HANGING HEART T-LIGHT HOLDER</td>\n",
       "    </tr>\n",
       "    <tr>\n",
       "      <th>1</th>\n",
       "      <td>536367</td>\n",
       "      <td>84879</td>\n",
       "      <td>32</td>\n",
       "      <td>2010-12-01 08:34:00</td>\n",
       "      <td>1.69</td>\n",
       "      <td>u13047</td>\n",
       "      <td>United Kingdom</td>\n",
       "      <td>54.08</td>\n",
       "      <td>ASSORTED COLOUR BIRD ORNAMENT</td>\n",
       "    </tr>\n",
       "    <tr>\n",
       "      <th>2</th>\n",
       "      <td>536373</td>\n",
       "      <td>85123A</td>\n",
       "      <td>6</td>\n",
       "      <td>2010-12-01 09:02:00</td>\n",
       "      <td>2.55</td>\n",
       "      <td>u1785</td>\n",
       "      <td>United Kingdom</td>\n",
       "      <td>15.30</td>\n",
       "      <td>CREAM HANGING HEART T-LIGHT HOLDER</td>\n",
       "    </tr>\n",
       "    <tr>\n",
       "      <th>3</th>\n",
       "      <td>536375</td>\n",
       "      <td>85123A</td>\n",
       "      <td>6</td>\n",
       "      <td>2010-12-01 09:32:00</td>\n",
       "      <td>2.55</td>\n",
       "      <td>u1785</td>\n",
       "      <td>United Kingdom</td>\n",
       "      <td>15.30</td>\n",
       "      <td>CREAM HANGING HEART T-LIGHT HOLDER</td>\n",
       "    </tr>\n",
       "    <tr>\n",
       "      <th>4</th>\n",
       "      <td>536378</td>\n",
       "      <td>20725</td>\n",
       "      <td>10</td>\n",
       "      <td>2010-12-01 09:37:00</td>\n",
       "      <td>1.65</td>\n",
       "      <td>u14688</td>\n",
       "      <td>United Kingdom</td>\n",
       "      <td>16.50</td>\n",
       "      <td>LUNCH BAG RED RETROSPOT</td>\n",
       "    </tr>\n",
       "  </tbody>\n",
       "</table>\n",
       "</div>"
      ],
      "text/plain": [
       "  Invoice StockCode  Quantity          InvoiceDate  Price CustomerID  \\\n",
       "0  536365    85123A         6  2010-12-01 08:26:00   2.55      u1785   \n",
       "1  536367     84879        32  2010-12-01 08:34:00   1.69     u13047   \n",
       "2  536373    85123A         6  2010-12-01 09:02:00   2.55      u1785   \n",
       "3  536375    85123A         6  2010-12-01 09:32:00   2.55      u1785   \n",
       "4  536378     20725        10  2010-12-01 09:37:00   1.65     u14688   \n",
       "\n",
       "          Country  TotalAmount                         Description  \n",
       "0  United Kingdom        15.30  CREAM HANGING HEART T-LIGHT HOLDER  \n",
       "1  United Kingdom        54.08       ASSORTED COLOUR BIRD ORNAMENT  \n",
       "2  United Kingdom        15.30  CREAM HANGING HEART T-LIGHT HOLDER  \n",
       "3  United Kingdom        15.30  CREAM HANGING HEART T-LIGHT HOLDER  \n",
       "4  United Kingdom        16.50             LUNCH BAG RED RETROSPOT  "
      ]
     },
     "execution_count": 8,
     "metadata": {},
     "output_type": "execute_result"
    }
   ],
   "source": [
    "query = 'SELECT online_retail_history.*, stock_description.Description FROM online_retail_history LEFT JOIN stock_description ON online_retail_history.StockCode = stock_description.StockCode'\n",
    "\n",
    "stockDes = pd.read_sql(query,conn)\n",
    "\n",
    "stockDes.head()"
   ]
  },
  {
   "cell_type": "code",
   "execution_count": 9,
   "metadata": {},
   "outputs": [
    {
     "data": {
      "text/plain": [
       "(17032, 9)"
      ]
     },
     "execution_count": 9,
     "metadata": {},
     "output_type": "execute_result"
    }
   ],
   "source": [
    "stockDes.shape"
   ]
  },
  {
   "cell_type": "code",
   "execution_count": 10,
   "metadata": {},
   "outputs": [
    {
     "name": "stdout",
     "output_type": "stream",
     "text": [
      "<class 'pandas.core.frame.DataFrame'>\n",
      "RangeIndex: 17032 entries, 0 to 17031\n",
      "Data columns (total 9 columns):\n",
      " #   Column       Non-Null Count  Dtype  \n",
      "---  ------       --------------  -----  \n",
      " 0   Invoice      17032 non-null  object \n",
      " 1   StockCode    17032 non-null  object \n",
      " 2   Quantity     17032 non-null  int64  \n",
      " 3   InvoiceDate  17032 non-null  object \n",
      " 4   Price        17019 non-null  float64\n",
      " 5   CustomerID   13976 non-null  object \n",
      " 6   Country      17032 non-null  object \n",
      " 7   TotalAmount  17019 non-null  float64\n",
      " 8   Description  17032 non-null  object \n",
      "dtypes: float64(2), int64(1), object(6)\n",
      "memory usage: 1.2+ MB\n"
     ]
    }
   ],
   "source": [
    "stockDes.info()"
   ]
  },
  {
   "cell_type": "markdown",
   "metadata": {},
   "source": [
    "# Identifying and fixing corrupt data"
   ]
  },
  {
   "cell_type": "code",
   "execution_count": 11,
   "metadata": {},
   "outputs": [
    {
     "data": {
      "text/html": [
       "<div>\n",
       "<style scoped>\n",
       "    .dataframe tbody tr th:only-of-type {\n",
       "        vertical-align: middle;\n",
       "    }\n",
       "\n",
       "    .dataframe tbody tr th {\n",
       "        vertical-align: top;\n",
       "    }\n",
       "\n",
       "    .dataframe thead th {\n",
       "        text-align: right;\n",
       "    }\n",
       "</style>\n",
       "<table border=\"1\" class=\"dataframe\">\n",
       "  <thead>\n",
       "    <tr style=\"text-align: right;\">\n",
       "      <th></th>\n",
       "      <th>StockCode</th>\n",
       "      <th>Quantity</th>\n",
       "      <th>InvoiceDate</th>\n",
       "      <th>Price</th>\n",
       "      <th>TotalAmount</th>\n",
       "      <th>Description</th>\n",
       "    </tr>\n",
       "  </thead>\n",
       "  <tbody>\n",
       "    <tr>\n",
       "      <th>11355</th>\n",
       "      <td>20727</td>\n",
       "      <td>10</td>\n",
       "      <td>2011-08-23 14:55:00</td>\n",
       "      <td>1.65</td>\n",
       "      <td>16.50</td>\n",
       "      <td>LUNCH BAG  BLACK SKULL.</td>\n",
       "    </tr>\n",
       "    <tr>\n",
       "      <th>12880</th>\n",
       "      <td>22720</td>\n",
       "      <td>9</td>\n",
       "      <td>2011-09-25 14:53:00</td>\n",
       "      <td>4.95</td>\n",
       "      <td>44.55</td>\n",
       "      <td>SET OF 3 CAKE TINS PANTRY DESIGN</td>\n",
       "    </tr>\n",
       "    <tr>\n",
       "      <th>3450</th>\n",
       "      <td>22197</td>\n",
       "      <td>100</td>\n",
       "      <td>2011-03-03 10:55:00</td>\n",
       "      <td>0.72</td>\n",
       "      <td>72.00</td>\n",
       "      <td>POPCORN HOLDER</td>\n",
       "    </tr>\n",
       "    <tr>\n",
       "      <th>14380</th>\n",
       "      <td>21212</td>\n",
       "      <td>3</td>\n",
       "      <td>2011-10-27 16:23:00</td>\n",
       "      <td>0.55</td>\n",
       "      <td>1.65</td>\n",
       "      <td>PACK OF 72 RETROSPOT CAKE CASES</td>\n",
       "    </tr>\n",
       "    <tr>\n",
       "      <th>8855</th>\n",
       "      <td>20727</td>\n",
       "      <td>1</td>\n",
       "      <td>2011-06-24 15:51:00</td>\n",
       "      <td>4.13</td>\n",
       "      <td>4.13</td>\n",
       "      <td>LUNCH BAG  BLACK SKULL.</td>\n",
       "    </tr>\n",
       "    <tr>\n",
       "      <th>9505</th>\n",
       "      <td>85123A</td>\n",
       "      <td>32</td>\n",
       "      <td>2011-07-12 12:24:00</td>\n",
       "      <td>2.55</td>\n",
       "      <td>81.60</td>\n",
       "      <td>CREAM HANGING HEART T-LIGHT HOLDER</td>\n",
       "    </tr>\n",
       "    <tr>\n",
       "      <th>5228</th>\n",
       "      <td>85099B</td>\n",
       "      <td>10</td>\n",
       "      <td>2011-04-08 11:50:00</td>\n",
       "      <td>1.95</td>\n",
       "      <td>19.50</td>\n",
       "      <td>JUMBO BAG RED RETROSPOT</td>\n",
       "    </tr>\n",
       "  </tbody>\n",
       "</table>\n",
       "</div>"
      ],
      "text/plain": [
       "      StockCode  Quantity          InvoiceDate  Price  TotalAmount  \\\n",
       "11355     20727        10  2011-08-23 14:55:00   1.65        16.50   \n",
       "12880     22720         9  2011-09-25 14:53:00   4.95        44.55   \n",
       "3450      22197       100  2011-03-03 10:55:00   0.72        72.00   \n",
       "14380     21212         3  2011-10-27 16:23:00   0.55         1.65   \n",
       "8855      20727         1  2011-06-24 15:51:00   4.13         4.13   \n",
       "9505     85123A        32  2011-07-12 12:24:00   2.55        81.60   \n",
       "5228     85099B        10  2011-04-08 11:50:00   1.95        19.50   \n",
       "\n",
       "                              Description  \n",
       "11355             LUNCH BAG  BLACK SKULL.  \n",
       "12880   SET OF 3 CAKE TINS PANTRY DESIGN   \n",
       "3450                       POPCORN HOLDER  \n",
       "14380     PACK OF 72 RETROSPOT CAKE CASES  \n",
       "8855              LUNCH BAG  BLACK SKULL.  \n",
       "9505   CREAM HANGING HEART T-LIGHT HOLDER  \n",
       "5228              JUMBO BAG RED RETROSPOT  "
      ]
     },
     "execution_count": 11,
     "metadata": {},
     "output_type": "execute_result"
    }
   ],
   "source": [
    "stockDrp = stockDes.drop(['Invoice', 'CustomerID', 'Country'], axis = 'columns')\n",
    "stockDrp.sample(7)"
   ]
  },
  {
   "cell_type": "code",
   "execution_count": 12,
   "metadata": {},
   "outputs": [
    {
     "data": {
      "text/plain": [
       "CREAM HANGING HEART T-LIGHT HOLDER    2174\n",
       "JUMBO BAG RED RETROSPOT               1960\n",
       "?                                     1711\n",
       "REGENCY CAKESTAND 3 TIER              1711\n",
       "PARTY BUNTING                         1615\n",
       "LUNCH BAG RED RETROSPOT               1421\n",
       "ASSORTED COLOUR BIRD ORNAMENT         1405\n",
       "POPCORN HOLDER                        1329\n",
       "LUNCH BAG  BLACK SKULL.               1271\n",
       "SET OF 3 CAKE TINS PANTRY DESIGN      1257\n",
       "PACK OF 72 RETROSPOT CAKE CASES       1178\n",
       "Name: Description, dtype: int64"
      ]
     },
     "execution_count": 12,
     "metadata": {},
     "output_type": "execute_result"
    }
   ],
   "source": [
    "stockDes['Description'].value_counts()"
   ]
  },
  {
   "cell_type": "code",
   "execution_count": 13,
   "metadata": {},
   "outputs": [
    {
     "data": {
      "text/html": [
       "<div>\n",
       "<style scoped>\n",
       "    .dataframe tbody tr th:only-of-type {\n",
       "        vertical-align: middle;\n",
       "    }\n",
       "\n",
       "    .dataframe tbody tr th {\n",
       "        vertical-align: top;\n",
       "    }\n",
       "\n",
       "    .dataframe thead th {\n",
       "        text-align: right;\n",
       "    }\n",
       "</style>\n",
       "<table border=\"1\" class=\"dataframe\">\n",
       "  <thead>\n",
       "    <tr style=\"text-align: right;\">\n",
       "      <th></th>\n",
       "      <th>StockCode</th>\n",
       "      <th>Quantity</th>\n",
       "      <th>InvoiceDate</th>\n",
       "      <th>Price</th>\n",
       "      <th>TotalAmount</th>\n",
       "      <th>Description</th>\n",
       "    </tr>\n",
       "  </thead>\n",
       "  <tbody>\n",
       "    <tr>\n",
       "      <th>9868</th>\n",
       "      <td>47566</td>\n",
       "      <td>60</td>\n",
       "      <td>2011-07-19 15:23:00</td>\n",
       "      <td>4.15</td>\n",
       "      <td>249.00</td>\n",
       "      <td>PARTY BUNTING</td>\n",
       "    </tr>\n",
       "    <tr>\n",
       "      <th>6013</th>\n",
       "      <td>84879</td>\n",
       "      <td>8</td>\n",
       "      <td>2011-04-26 11:59:00</td>\n",
       "      <td>1.69</td>\n",
       "      <td>13.52</td>\n",
       "      <td>ASSORTED COLOUR BIRD ORNAMENT</td>\n",
       "    </tr>\n",
       "    <tr>\n",
       "      <th>3738</th>\n",
       "      <td>22720</td>\n",
       "      <td>1</td>\n",
       "      <td>2011-03-09 14:30:00</td>\n",
       "      <td>4.95</td>\n",
       "      <td>4.95</td>\n",
       "      <td>SET OF 3 CAKE TINS PANTRY DESIGN</td>\n",
       "    </tr>\n",
       "    <tr>\n",
       "      <th>10444</th>\n",
       "      <td>85123A</td>\n",
       "      <td>32</td>\n",
       "      <td>2011-08-02 12:59:00</td>\n",
       "      <td>2.55</td>\n",
       "      <td>81.60</td>\n",
       "      <td>CREAM HANGING HEART T-LIGHT HOLDER</td>\n",
       "    </tr>\n",
       "    <tr>\n",
       "      <th>5316</th>\n",
       "      <td>20727</td>\n",
       "      <td>10</td>\n",
       "      <td>2011-04-11 10:01:00</td>\n",
       "      <td>1.65</td>\n",
       "      <td>16.50</td>\n",
       "      <td>LUNCH BAG  BLACK SKULL.</td>\n",
       "    </tr>\n",
       "    <tr>\n",
       "      <th>6243</th>\n",
       "      <td>47566</td>\n",
       "      <td>1</td>\n",
       "      <td>2011-05-03 16:06:00</td>\n",
       "      <td>10.79</td>\n",
       "      <td>10.79</td>\n",
       "      <td>PARTY BUNTING</td>\n",
       "    </tr>\n",
       "    <tr>\n",
       "      <th>6604</th>\n",
       "      <td>20727</td>\n",
       "      <td>10</td>\n",
       "      <td>2011-05-09 14:44:00</td>\n",
       "      <td>1.65</td>\n",
       "      <td>16.50</td>\n",
       "      <td>LUNCH BAG  BLACK SKULL.</td>\n",
       "    </tr>\n",
       "    <tr>\n",
       "      <th>1734</th>\n",
       "      <td>21212</td>\n",
       "      <td>1</td>\n",
       "      <td>2011-01-17 17:48:00</td>\n",
       "      <td>1.25</td>\n",
       "      <td>1.25</td>\n",
       "      <td>PACK OF 72 RETROSPOT CAKE CASES</td>\n",
       "    </tr>\n",
       "  </tbody>\n",
       "</table>\n",
       "</div>"
      ],
      "text/plain": [
       "      StockCode  Quantity          InvoiceDate  Price  TotalAmount  \\\n",
       "9868      47566        60  2011-07-19 15:23:00   4.15       249.00   \n",
       "6013      84879         8  2011-04-26 11:59:00   1.69        13.52   \n",
       "3738      22720         1  2011-03-09 14:30:00   4.95         4.95   \n",
       "10444    85123A        32  2011-08-02 12:59:00   2.55        81.60   \n",
       "5316      20727        10  2011-04-11 10:01:00   1.65        16.50   \n",
       "6243      47566         1  2011-05-03 16:06:00  10.79        10.79   \n",
       "6604      20727        10  2011-05-09 14:44:00   1.65        16.50   \n",
       "1734      21212         1  2011-01-17 17:48:00   1.25         1.25   \n",
       "\n",
       "                              Description  \n",
       "9868                        PARTY BUNTING  \n",
       "6013        ASSORTED COLOUR BIRD ORNAMENT  \n",
       "3738    SET OF 3 CAKE TINS PANTRY DESIGN   \n",
       "10444  CREAM HANGING HEART T-LIGHT HOLDER  \n",
       "5316              LUNCH BAG  BLACK SKULL.  \n",
       "6243                        PARTY BUNTING  \n",
       "6604              LUNCH BAG  BLACK SKULL.  \n",
       "1734      PACK OF 72 RETROSPOT CAKE CASES  "
      ]
     },
     "execution_count": 13,
     "metadata": {},
     "output_type": "execute_result"
    }
   ],
   "source": [
    "# Removing rows where \"Description\" is just a question mark (?).\n",
    "stockDrp = stockDrp[stockDrp.Description != '?']\n",
    "\n",
    "stockDrp.sample(8)"
   ]
  },
  {
   "cell_type": "markdown",
   "metadata": {},
   "source": [
    "# Identifying and removing duplicates"
   ]
  },
  {
   "cell_type": "code",
   "execution_count": 14,
   "metadata": {},
   "outputs": [
    {
     "data": {
      "text/html": [
       "<div>\n",
       "<style scoped>\n",
       "    .dataframe tbody tr th:only-of-type {\n",
       "        vertical-align: middle;\n",
       "    }\n",
       "\n",
       "    .dataframe tbody tr th {\n",
       "        vertical-align: top;\n",
       "    }\n",
       "\n",
       "    .dataframe thead th {\n",
       "        text-align: right;\n",
       "    }\n",
       "</style>\n",
       "<table border=\"1\" class=\"dataframe\">\n",
       "  <thead>\n",
       "    <tr style=\"text-align: right;\">\n",
       "      <th></th>\n",
       "      <th>StockCode</th>\n",
       "      <th>Quantity</th>\n",
       "      <th>InvoiceDate</th>\n",
       "      <th>Price</th>\n",
       "      <th>TotalAmount</th>\n",
       "      <th>Description</th>\n",
       "    </tr>\n",
       "  </thead>\n",
       "  <tbody>\n",
       "    <tr>\n",
       "      <th>178</th>\n",
       "      <td>20727</td>\n",
       "      <td>1</td>\n",
       "      <td>2010-12-03 11:19:00</td>\n",
       "      <td>1.65</td>\n",
       "      <td>1.65</td>\n",
       "      <td>LUNCH BAG  BLACK SKULL.</td>\n",
       "    </tr>\n",
       "    <tr>\n",
       "      <th>497</th>\n",
       "      <td>84879</td>\n",
       "      <td>8</td>\n",
       "      <td>2010-12-08 12:46:00</td>\n",
       "      <td>1.69</td>\n",
       "      <td>13.52</td>\n",
       "      <td>ASSORTED COLOUR BIRD ORNAMENT</td>\n",
       "    </tr>\n",
       "    <tr>\n",
       "      <th>571</th>\n",
       "      <td>20725</td>\n",
       "      <td>1</td>\n",
       "      <td>2010-12-09 11:28:00</td>\n",
       "      <td>1.65</td>\n",
       "      <td>1.65</td>\n",
       "      <td>LUNCH BAG RED RETROSPOT</td>\n",
       "    </tr>\n",
       "    <tr>\n",
       "      <th>811</th>\n",
       "      <td>84879</td>\n",
       "      <td>8</td>\n",
       "      <td>2010-12-14 12:30:00</td>\n",
       "      <td>1.69</td>\n",
       "      <td>13.52</td>\n",
       "      <td>ASSORTED COLOUR BIRD ORNAMENT</td>\n",
       "    </tr>\n",
       "    <tr>\n",
       "      <th>935</th>\n",
       "      <td>22423</td>\n",
       "      <td>16</td>\n",
       "      <td>2010-12-16 10:08:00</td>\n",
       "      <td>10.95</td>\n",
       "      <td>175.20</td>\n",
       "      <td>REGENCY CAKESTAND 3 TIER</td>\n",
       "    </tr>\n",
       "    <tr>\n",
       "      <th>...</th>\n",
       "      <td>...</td>\n",
       "      <td>...</td>\n",
       "      <td>...</td>\n",
       "      <td>...</td>\n",
       "      <td>...</td>\n",
       "      <td>...</td>\n",
       "    </tr>\n",
       "    <tr>\n",
       "      <th>16542</th>\n",
       "      <td>20727</td>\n",
       "      <td>1</td>\n",
       "      <td>2011-12-01 12:53:00</td>\n",
       "      <td>1.65</td>\n",
       "      <td>1.65</td>\n",
       "      <td>LUNCH BAG  BLACK SKULL.</td>\n",
       "    </tr>\n",
       "    <tr>\n",
       "      <th>16671</th>\n",
       "      <td>20727</td>\n",
       "      <td>2</td>\n",
       "      <td>2011-12-04 12:32:00</td>\n",
       "      <td>1.65</td>\n",
       "      <td>3.30</td>\n",
       "      <td>LUNCH BAG  BLACK SKULL.</td>\n",
       "    </tr>\n",
       "    <tr>\n",
       "      <th>16673</th>\n",
       "      <td>20727</td>\n",
       "      <td>1</td>\n",
       "      <td>2011-12-04 12:32:00</td>\n",
       "      <td>1.65</td>\n",
       "      <td>1.65</td>\n",
       "      <td>LUNCH BAG  BLACK SKULL.</td>\n",
       "    </tr>\n",
       "    <tr>\n",
       "      <th>16716</th>\n",
       "      <td>20727</td>\n",
       "      <td>1</td>\n",
       "      <td>2011-12-05 11:49:00</td>\n",
       "      <td>1.65</td>\n",
       "      <td>1.65</td>\n",
       "      <td>LUNCH BAG  BLACK SKULL.</td>\n",
       "    </tr>\n",
       "    <tr>\n",
       "      <th>16996</th>\n",
       "      <td>22423</td>\n",
       "      <td>1</td>\n",
       "      <td>2011-12-08 17:37:00</td>\n",
       "      <td>12.75</td>\n",
       "      <td>12.75</td>\n",
       "      <td>REGENCY CAKESTAND 3 TIER</td>\n",
       "    </tr>\n",
       "  </tbody>\n",
       "</table>\n",
       "<p>154 rows × 6 columns</p>\n",
       "</div>"
      ],
      "text/plain": [
       "      StockCode  Quantity          InvoiceDate  Price  TotalAmount  \\\n",
       "178       20727         1  2010-12-03 11:19:00   1.65         1.65   \n",
       "497       84879         8  2010-12-08 12:46:00   1.69        13.52   \n",
       "571       20725         1  2010-12-09 11:28:00   1.65         1.65   \n",
       "811       84879         8  2010-12-14 12:30:00   1.69        13.52   \n",
       "935       22423        16  2010-12-16 10:08:00  10.95       175.20   \n",
       "...         ...       ...                  ...    ...          ...   \n",
       "16542     20727         1  2011-12-01 12:53:00   1.65         1.65   \n",
       "16671     20727         2  2011-12-04 12:32:00   1.65         3.30   \n",
       "16673     20727         1  2011-12-04 12:32:00   1.65         1.65   \n",
       "16716     20727         1  2011-12-05 11:49:00   1.65         1.65   \n",
       "16996     22423         1  2011-12-08 17:37:00  12.75        12.75   \n",
       "\n",
       "                         Description  \n",
       "178          LUNCH BAG  BLACK SKULL.  \n",
       "497    ASSORTED COLOUR BIRD ORNAMENT  \n",
       "571          LUNCH BAG RED RETROSPOT  \n",
       "811    ASSORTED COLOUR BIRD ORNAMENT  \n",
       "935         REGENCY CAKESTAND 3 TIER  \n",
       "...                              ...  \n",
       "16542        LUNCH BAG  BLACK SKULL.  \n",
       "16671        LUNCH BAG  BLACK SKULL.  \n",
       "16673        LUNCH BAG  BLACK SKULL.  \n",
       "16716        LUNCH BAG  BLACK SKULL.  \n",
       "16996       REGENCY CAKESTAND 3 TIER  \n",
       "\n",
       "[154 rows x 6 columns]"
      ]
     },
     "execution_count": 14,
     "metadata": {},
     "output_type": "execute_result"
    }
   ],
   "source": [
    "dups = stockDrp[stockDrp.duplicated()]\n",
    "\n",
    "dups"
   ]
  },
  {
   "cell_type": "code",
   "execution_count": 15,
   "metadata": {},
   "outputs": [
    {
     "data": {
      "text/html": [
       "<div>\n",
       "<style scoped>\n",
       "    .dataframe tbody tr th:only-of-type {\n",
       "        vertical-align: middle;\n",
       "    }\n",
       "\n",
       "    .dataframe tbody tr th {\n",
       "        vertical-align: top;\n",
       "    }\n",
       "\n",
       "    .dataframe thead th {\n",
       "        text-align: right;\n",
       "    }\n",
       "</style>\n",
       "<table border=\"1\" class=\"dataframe\">\n",
       "  <thead>\n",
       "    <tr style=\"text-align: right;\">\n",
       "      <th></th>\n",
       "      <th>StockCode</th>\n",
       "      <th>Quantity</th>\n",
       "      <th>InvoiceDate</th>\n",
       "      <th>Price</th>\n",
       "      <th>TotalAmount</th>\n",
       "      <th>Description</th>\n",
       "    </tr>\n",
       "  </thead>\n",
       "  <tbody>\n",
       "    <tr>\n",
       "      <th>0</th>\n",
       "      <td>85123A</td>\n",
       "      <td>6</td>\n",
       "      <td>2010-12-01 08:26:00</td>\n",
       "      <td>2.55</td>\n",
       "      <td>15.30</td>\n",
       "      <td>CREAM HANGING HEART T-LIGHT HOLDER</td>\n",
       "    </tr>\n",
       "    <tr>\n",
       "      <th>1</th>\n",
       "      <td>84879</td>\n",
       "      <td>32</td>\n",
       "      <td>2010-12-01 08:34:00</td>\n",
       "      <td>1.69</td>\n",
       "      <td>54.08</td>\n",
       "      <td>ASSORTED COLOUR BIRD ORNAMENT</td>\n",
       "    </tr>\n",
       "    <tr>\n",
       "      <th>2</th>\n",
       "      <td>85123A</td>\n",
       "      <td>6</td>\n",
       "      <td>2010-12-01 09:02:00</td>\n",
       "      <td>2.55</td>\n",
       "      <td>15.30</td>\n",
       "      <td>CREAM HANGING HEART T-LIGHT HOLDER</td>\n",
       "    </tr>\n",
       "    <tr>\n",
       "      <th>3</th>\n",
       "      <td>85123A</td>\n",
       "      <td>6</td>\n",
       "      <td>2010-12-01 09:32:00</td>\n",
       "      <td>2.55</td>\n",
       "      <td>15.30</td>\n",
       "      <td>CREAM HANGING HEART T-LIGHT HOLDER</td>\n",
       "    </tr>\n",
       "    <tr>\n",
       "      <th>4</th>\n",
       "      <td>20725</td>\n",
       "      <td>10</td>\n",
       "      <td>2010-12-01 09:37:00</td>\n",
       "      <td>1.65</td>\n",
       "      <td>16.50</td>\n",
       "      <td>LUNCH BAG RED RETROSPOT</td>\n",
       "    </tr>\n",
       "  </tbody>\n",
       "</table>\n",
       "</div>"
      ],
      "text/plain": [
       "  StockCode  Quantity          InvoiceDate  Price  TotalAmount  \\\n",
       "0    85123A         6  2010-12-01 08:26:00   2.55        15.30   \n",
       "1     84879        32  2010-12-01 08:34:00   1.69        54.08   \n",
       "2    85123A         6  2010-12-01 09:02:00   2.55        15.30   \n",
       "3    85123A         6  2010-12-01 09:32:00   2.55        15.30   \n",
       "4     20725        10  2010-12-01 09:37:00   1.65        16.50   \n",
       "\n",
       "                          Description  \n",
       "0  CREAM HANGING HEART T-LIGHT HOLDER  \n",
       "1       ASSORTED COLOUR BIRD ORNAMENT  \n",
       "2  CREAM HANGING HEART T-LIGHT HOLDER  \n",
       "3  CREAM HANGING HEART T-LIGHT HOLDER  \n",
       "4             LUNCH BAG RED RETROSPOT  "
      ]
     },
     "execution_count": 15,
     "metadata": {},
     "output_type": "execute_result"
    }
   ],
   "source": [
    "stockFin = stockDrp[~stockDrp.duplicated()]\n",
    "\n",
    "stockFin.head()"
   ]
  },
  {
   "cell_type": "markdown",
   "metadata": {},
   "source": [
    "# Changing date formats"
   ]
  },
  {
   "cell_type": "code",
   "execution_count": 16,
   "metadata": {},
   "outputs": [
    {
     "name": "stdout",
     "output_type": "stream",
     "text": [
      "<class 'pandas.core.frame.DataFrame'>\n",
      "Int64Index: 15167 entries, 0 to 17031\n",
      "Data columns (total 6 columns):\n",
      " #   Column       Non-Null Count  Dtype  \n",
      "---  ------       --------------  -----  \n",
      " 0   StockCode    15167 non-null  object \n",
      " 1   Quantity     15167 non-null  int64  \n",
      " 2   InvoiceDate  15167 non-null  object \n",
      " 3   Price        15155 non-null  float64\n",
      " 4   TotalAmount  15155 non-null  float64\n",
      " 5   Description  15167 non-null  object \n",
      "dtypes: float64(2), int64(1), object(3)\n",
      "memory usage: 829.4+ KB\n"
     ]
    }
   ],
   "source": [
    "stockFin.info()"
   ]
  },
  {
   "cell_type": "code",
   "execution_count": 17,
   "metadata": {},
   "outputs": [
    {
     "name": "stderr",
     "output_type": "stream",
     "text": [
      "C:\\Users\\MSI1\\AppData\\Local\\Temp\\ipykernel_14872\\1043688626.py:1: SettingWithCopyWarning: \n",
      "A value is trying to be set on a copy of a slice from a DataFrame.\n",
      "Try using .loc[row_indexer,col_indexer] = value instead\n",
      "\n",
      "See the caveats in the documentation: https://pandas.pydata.org/pandas-docs/stable/user_guide/indexing.html#returning-a-view-versus-a-copy\n",
      "  stockFin['InvoiceDate'] = pd.to_datetime(stockFin['InvoiceDate'], format = '%Y-%m-%d')\n"
     ]
    }
   ],
   "source": [
    "stockFin['InvoiceDate'] = pd.to_datetime(stockFin['InvoiceDate'], format = '%Y-%m-%d')"
   ]
  },
  {
   "cell_type": "code",
   "execution_count": 18,
   "metadata": {},
   "outputs": [
    {
     "name": "stdout",
     "output_type": "stream",
     "text": [
      "<class 'pandas.core.frame.DataFrame'>\n",
      "Int64Index: 15167 entries, 0 to 17031\n",
      "Data columns (total 6 columns):\n",
      " #   Column       Non-Null Count  Dtype         \n",
      "---  ------       --------------  -----         \n",
      " 0   StockCode    15167 non-null  object        \n",
      " 1   Quantity     15167 non-null  int64         \n",
      " 2   InvoiceDate  15167 non-null  datetime64[ns]\n",
      " 3   Price        15155 non-null  float64       \n",
      " 4   TotalAmount  15155 non-null  float64       \n",
      " 5   Description  15167 non-null  object        \n",
      "dtypes: datetime64[ns](1), float64(2), int64(1), object(2)\n",
      "memory usage: 829.4+ KB\n"
     ]
    }
   ],
   "source": [
    "stockFin.info()"
   ]
  },
  {
   "cell_type": "code",
   "execution_count": 19,
   "metadata": {},
   "outputs": [
    {
     "data": {
      "text/html": [
       "<div>\n",
       "<style scoped>\n",
       "    .dataframe tbody tr th:only-of-type {\n",
       "        vertical-align: middle;\n",
       "    }\n",
       "\n",
       "    .dataframe tbody tr th {\n",
       "        vertical-align: top;\n",
       "    }\n",
       "\n",
       "    .dataframe thead th {\n",
       "        text-align: right;\n",
       "    }\n",
       "</style>\n",
       "<table border=\"1\" class=\"dataframe\">\n",
       "  <thead>\n",
       "    <tr style=\"text-align: right;\">\n",
       "      <th></th>\n",
       "      <th>StockCode</th>\n",
       "      <th>Quantity</th>\n",
       "      <th>InvoiceDate</th>\n",
       "      <th>Price</th>\n",
       "      <th>TotalAmount</th>\n",
       "      <th>Description</th>\n",
       "    </tr>\n",
       "  </thead>\n",
       "  <tbody>\n",
       "    <tr>\n",
       "      <th>6438</th>\n",
       "      <td>20725</td>\n",
       "      <td>20</td>\n",
       "      <td>2011-05-06 13:52:00</td>\n",
       "      <td>1.65</td>\n",
       "      <td>33.00</td>\n",
       "      <td>LUNCH BAG RED RETROSPOT</td>\n",
       "    </tr>\n",
       "    <tr>\n",
       "      <th>2785</th>\n",
       "      <td>22720</td>\n",
       "      <td>3</td>\n",
       "      <td>2011-02-15 15:51:00</td>\n",
       "      <td>4.95</td>\n",
       "      <td>14.85</td>\n",
       "      <td>SET OF 3 CAKE TINS PANTRY DESIGN</td>\n",
       "    </tr>\n",
       "    <tr>\n",
       "      <th>13963</th>\n",
       "      <td>47566</td>\n",
       "      <td>1</td>\n",
       "      <td>2011-10-17 15:06:00</td>\n",
       "      <td>4.95</td>\n",
       "      <td>4.95</td>\n",
       "      <td>PARTY BUNTING</td>\n",
       "    </tr>\n",
       "    <tr>\n",
       "      <th>16078</th>\n",
       "      <td>85099B</td>\n",
       "      <td>20</td>\n",
       "      <td>2011-11-24 10:39:00</td>\n",
       "      <td>2.08</td>\n",
       "      <td>41.60</td>\n",
       "      <td>JUMBO BAG RED RETROSPOT</td>\n",
       "    </tr>\n",
       "    <tr>\n",
       "      <th>13126</th>\n",
       "      <td>20725</td>\n",
       "      <td>1</td>\n",
       "      <td>2011-09-29 16:48:00</td>\n",
       "      <td>1.65</td>\n",
       "      <td>1.65</td>\n",
       "      <td>LUNCH BAG RED RETROSPOT</td>\n",
       "    </tr>\n",
       "    <tr>\n",
       "      <th>3790</th>\n",
       "      <td>85099B</td>\n",
       "      <td>1</td>\n",
       "      <td>2011-03-10 15:01:00</td>\n",
       "      <td>1.95</td>\n",
       "      <td>1.95</td>\n",
       "      <td>JUMBO BAG RED RETROSPOT</td>\n",
       "    </tr>\n",
       "    <tr>\n",
       "      <th>8922</th>\n",
       "      <td>22423</td>\n",
       "      <td>2</td>\n",
       "      <td>2011-06-28 08:19:00</td>\n",
       "      <td>12.75</td>\n",
       "      <td>25.50</td>\n",
       "      <td>REGENCY CAKESTAND 3 TIER</td>\n",
       "    </tr>\n",
       "  </tbody>\n",
       "</table>\n",
       "</div>"
      ],
      "text/plain": [
       "      StockCode  Quantity         InvoiceDate  Price  TotalAmount  \\\n",
       "6438      20725        20 2011-05-06 13:52:00   1.65        33.00   \n",
       "2785      22720         3 2011-02-15 15:51:00   4.95        14.85   \n",
       "13963     47566         1 2011-10-17 15:06:00   4.95         4.95   \n",
       "16078    85099B        20 2011-11-24 10:39:00   2.08        41.60   \n",
       "13126     20725         1 2011-09-29 16:48:00   1.65         1.65   \n",
       "3790     85099B         1 2011-03-10 15:01:00   1.95         1.95   \n",
       "8922      22423         2 2011-06-28 08:19:00  12.75        25.50   \n",
       "\n",
       "                             Description  \n",
       "6438             LUNCH BAG RED RETROSPOT  \n",
       "2785   SET OF 3 CAKE TINS PANTRY DESIGN   \n",
       "13963                      PARTY BUNTING  \n",
       "16078            JUMBO BAG RED RETROSPOT  \n",
       "13126            LUNCH BAG RED RETROSPOT  \n",
       "3790             JUMBO BAG RED RETROSPOT  \n",
       "8922            REGENCY CAKESTAND 3 TIER  "
      ]
     },
     "execution_count": 19,
     "metadata": {},
     "output_type": "execute_result"
    }
   ],
   "source": [
    "stockFin.sample(7)"
   ]
  },
  {
   "cell_type": "markdown",
   "metadata": {},
   "source": [
    "# Loading the dataset into a pickle file"
   ]
  },
  {
   "cell_type": "code",
   "execution_count": 20,
   "metadata": {},
   "outputs": [],
   "source": [
    "stockFin.to_pickle('online_history_cleaned.pickle')"
   ]
  },
  {
   "cell_type": "markdown",
   "metadata": {},
   "source": [
    "## Closing the Database Connection"
   ]
  },
  {
   "cell_type": "code",
   "execution_count": 21,
   "metadata": {},
   "outputs": [],
   "source": [
    "conn.close()"
   ]
  }
 ],
 "metadata": {
  "kernelspec": {
   "display_name": "Python 3 (ipykernel)",
   "language": "python",
   "name": "python3"
  },
  "language_info": {
   "codemirror_mode": {
    "name": "ipython",
    "version": 3
   },
   "file_extension": ".py",
   "mimetype": "text/x-python",
   "name": "python",
   "nbconvert_exporter": "python",
   "pygments_lexer": "ipython3",
   "version": "3.9.13"
  }
 },
 "nbformat": 4,
 "nbformat_minor": 4
}
